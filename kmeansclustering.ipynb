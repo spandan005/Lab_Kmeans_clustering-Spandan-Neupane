{
  "nbformat": 4,
  "nbformat_minor": 0,
  "metadata": {
    "colab": {
      "provenance": [],
      "authorship_tag": "ABX9TyPjqiOmfwI08AEOiWfNINqg",
      "include_colab_link": true
    },
    "kernelspec": {
      "name": "python3",
      "display_name": "Python 3"
    },
    "language_info": {
      "name": "python"
    }
  },
  "cells": [
    {
      "cell_type": "markdown",
      "metadata": {
        "id": "view-in-github",
        "colab_type": "text"
      },
      "source": [
        "<a href=\"https://colab.research.google.com/github/spandan005/Lab_Kmeans_clustering-Spandan-Neupane/blob/main/kmeansclustering.ipynb\" target=\"_parent\"><img src=\"https://colab.research.google.com/assets/colab-badge.svg\" alt=\"Open In Colab\"/></a>"
      ]
    },
    {
      "cell_type": "code",
      "execution_count": 1,
      "metadata": {
        "id": "RCHf-zy9gGNM"
      },
      "outputs": [],
      "source": [
        "import pandas as pd\n",
        "import numpy as np\n",
        "import matplotlib.pyplot as plt\n",
        "import random\n",
        "import os"
      ]
    },
    {
      "cell_type": "code",
      "source": [
        "# Step 1: Load data (from CSV or use custom data)\n",
        "csv_file = \"income.csv\""
      ],
      "metadata": {
        "id": "dZP_lmnSgIyA"
      },
      "execution_count": 2,
      "outputs": []
    },
    {
      "cell_type": "code",
      "source": [
        "if os.path.exists(csv_file):\n",
        "    print(\"Loading data from CSV...\")\n",
        "    df = pd.read_csv(csv_file)\n",
        "else:\n",
        "    print(\"CSV not found. Using custom hardcoded data...\")\n",
        "    data_dict = {\n",
        "        'Name': ['Spandan', 'Sushant', 'jhyape', 'Rishav', 'Suraj', 'Prashows', 'Sananda', 'Pawan', 'Samay', 'Rana'],\n",
        "        'Age': [25, 45, 35, 23, 52, 48, 33, 28, 60, 40],\n",
        "        'Income($)': [50000, 80000, 62000, 48000, 90000, 85000, 60000, 52000, 95000, 70000]\n",
        "    }\n",
        "    df = pd.DataFrame(data_dict)\n"
      ],
      "metadata": {
        "colab": {
          "base_uri": "https://localhost:8080/"
        },
        "id": "auNiPJl8gPvU",
        "outputId": "14d151fd-a3c6-4f03-b59a-add163618843"
      },
      "execution_count": 3,
      "outputs": [
        {
          "output_type": "stream",
          "name": "stdout",
          "text": [
            "CSV not found. Using custom hardcoded data...\n"
          ]
        }
      ]
    },
    {
      "cell_type": "code",
      "source": [
        "# Extract features\n",
        "data = df[['Age', 'Income($)']].values"
      ],
      "metadata": {
        "id": "IVfHe9hPgSnr"
      },
      "execution_count": 4,
      "outputs": []
    },
    {
      "cell_type": "code",
      "source": [
        "# Step 2: Set number of clusters\n",
        "k = 3\n",
        "max_iters = 100"
      ],
      "metadata": {
        "id": "AqsDzcN7gVKZ"
      },
      "execution_count": 5,
      "outputs": []
    },
    {
      "cell_type": "code",
      "source": [
        "# Step 3: Initialize centroids randomly\n",
        "random.seed(42)\n",
        "initial_centroids = data[random.sample(range(len(data)), k)]"
      ],
      "metadata": {
        "id": "vGQxfA9kgYHE"
      },
      "execution_count": 6,
      "outputs": []
    },
    {
      "cell_type": "code",
      "source": [
        "# Step 4: Euclidean distance function\n",
        "def euclidean(a, b):\n",
        "    return np.sqrt(np.sum((a - b) ** 2))"
      ],
      "metadata": {
        "id": "q8bFGITMgaWN"
      },
      "execution_count": 7,
      "outputs": []
    },
    {
      "cell_type": "code",
      "source": [
        "# Step 5: K-means loop\n",
        "centroids = initial_centroids\n",
        "for iteration in range(max_iters):\n",
        "    # Assignment step\n",
        "    clusters = [[] for _ in range(k)]\n",
        "    for point in data:\n",
        "        distances = [euclidean(point, centroid) for centroid in centroids]\n",
        "        cluster_index = np.argmin(distances)\n",
        "        clusters[cluster_index].append(point)\n",
        "\n",
        "    # Save previous centroids\n",
        "    old_centroids = centroids.copy()\n",
        "\n",
        "    # Update centroids\n",
        "    centroids = [\n",
        "        np.mean(cluster, axis=0) if cluster else old_centroids[i]\n",
        "        for i, cluster in enumerate(clusters)\n",
        "    ]\n",
        "\n",
        "    # Check for convergence\n",
        "    converged = np.all([np.allclose(old_centroids[i], centroids[i]) for i in range(k)])\n",
        "    if converged:\n",
        "        print(f\"Converged at iteration {iteration + 1}\")\n",
        "        break"
      ],
      "metadata": {
        "colab": {
          "base_uri": "https://localhost:8080/"
        },
        "id": "Hn5fciaIgcnI",
        "outputId": "5c006478-616c-4095-b9ac-3038e03d1c12"
      },
      "execution_count": 8,
      "outputs": [
        {
          "output_type": "stream",
          "name": "stdout",
          "text": [
            "Converged at iteration 2\n"
          ]
        }
      ]
    },
    {
      "cell_type": "code",
      "source": [
        "# Step 6: Assign final cluster labels\n",
        "labels = []\n",
        "for point in data:\n",
        "    distances = [euclidean(point, centroid) for centroid in centroids]\n",
        "    labels.append(np.argmin(distances))\n"
      ],
      "metadata": {
        "id": "T0n9hyXMge9r"
      },
      "execution_count": 9,
      "outputs": []
    },
    {
      "cell_type": "code",
      "source": [
        "# Step 7: Plot\n",
        "df['Cluster'] = labels\n",
        "colors = ['red', 'green', 'blue']\n",
        "\n",
        "plt.figure(figsize=(8, 5))\n",
        "for i in range(k):\n",
        "    cluster_points = df[df['Cluster'] == i]\n",
        "    plt.scatter(cluster_points['Age'], cluster_points['Income($)'], color=colors[i], label=f'Cluster {i}')\n",
        "plt.scatter(*zip(*centroids), color='black', marker='x', s=200, label='Centroids')\n",
        "plt.xlabel('Age')\n",
        "plt.ylabel('Income ($)')\n",
        "plt.title('K-Means Clustering from Scratch')\n",
        "plt.legend()\n",
        "plt.grid(True)\n",
        "plt.show()"
      ],
      "metadata": {
        "colab": {
          "base_uri": "https://localhost:8080/",
          "height": 487
        },
        "id": "9dKF6SpNgiAu",
        "outputId": "a6dfee1c-5115-4900-f683-642c947cfb37"
      },
      "execution_count": 10,
      "outputs": [
        {
          "output_type": "display_data",
          "data": {
            "text/plain": [
              "<Figure size 800x500 with 1 Axes>"
            ],
            "image/png": "[encoded data removed]"
          },
          "metadata": {}
        }
      ]
    }
  ]
}